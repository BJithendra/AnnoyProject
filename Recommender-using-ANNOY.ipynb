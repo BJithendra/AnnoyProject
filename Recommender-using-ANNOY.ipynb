{
 "cells": [
  {
   "cell_type": "markdown",
   "metadata": {},
   "source": [
    "**Objective:** Get the top 10 recommended pieces of music"
   ]
  },
  {
   "cell_type": "code",
   "execution_count": 1,
   "metadata": {},
   "outputs": [],
   "source": [
    "import json\n",
    "from ast import literal_eval\n",
    "import pandas as pd"
   ]
  },
  {
   "cell_type": "code",
   "execution_count": 2,
   "metadata": {},
   "outputs": [],
   "source": [
    "class_labels = pd.read_csv('class_labels_indices.csv')\n",
    "music_dict = dict(zip(class_labels.index, class_labels.display_name))"
   ]
  },
  {
   "cell_type": "code",
   "execution_count": 3,
   "metadata": {},
   "outputs": [],
   "source": [
    "with open('music_set.json','r') as file:\n",
    "    file_read = json.loads(file.read())\n",
    "    music_dataset = literal_eval(file_read)"
   ]
  },
  {
   "cell_type": "code",
   "execution_count": 4,
   "metadata": {},
   "outputs": [
    {
     "data": {
      "text/plain": [
       "2104"
      ]
     },
     "execution_count": 4,
     "metadata": {},
     "output_type": "execute_result"
    }
   ],
   "source": [
    "len(music_dataset)"
   ]
  },
  {
   "cell_type": "code",
   "execution_count": 6,
   "metadata": {},
   "outputs": [
    {
     "data": {
      "text/plain": [
       "True"
      ]
     },
     "execution_count": 6,
     "metadata": {},
     "output_type": "execute_result"
    }
   ],
   "source": [
    "from annoy import AnnoyIndex\n",
    "\n",
    "audio_dim = 1280\n",
    "annoy_index = AnnoyIndex(audio_dim, 'angular') # Length of item vector that will be indexed\n",
    "for index in range(len(music_dataset[:1000])):\n",
    "    vector = music_dataset[index]['data']\n",
    "    annoy_index.add_item(index, vector)\n",
    "    \n",
    "annoy_index.build(50) # Build 50 trees\n",
    "annoy_index.save('nearest_neighbor_graph.ann')"
   ]
  },
  {
   "cell_type": "code",
   "execution_count": 8,
   "metadata": {},
   "outputs": [
    {
     "data": {
      "text/plain": [
       "True"
      ]
     },
     "execution_count": 8,
     "metadata": {},
     "output_type": "execute_result"
    }
   ],
   "source": [
    "annoy_index = AnnoyIndex(audio_dim, 'angular')\n",
    "annoy_index.load('nearest_neighbor_graph.ann')"
   ]
  },
  {
   "cell_type": "code",
   "execution_count": 10,
   "metadata": {},
   "outputs": [
    {
     "name": "stdout",
     "output_type": "stream",
     "text": [
      "[193, 969, 763, 607, 973, 233, 834, 586, 595, 501]\n"
     ]
    }
   ],
   "source": [
    "nns_index = annoy_index.get_nns_by_item(193, 10)\n",
    "print(nns_index)"
   ]
  },
  {
   "cell_type": "code",
   "execution_count": 12,
   "metadata": {},
   "outputs": [
    {
     "name": "stdout",
     "output_type": "stream",
     "text": [
      "[193, ['Speech', 'Music', 'Single-lens reflex camera'], b'1OU19ANx4fg', 6.0, 16.0]\n",
      "[969, ['Music', 'Ska'], b'ELq5Oxwcmfs', 30.0, 40.0]\n",
      "[763, ['Music', 'Independent music'], b'BHu95Y_kVQA', 30.0, 40.0]\n",
      "[607, ['Music', 'Drum machine', 'Drum and bass'], b'92sRFZvCnWo', 30.0, 40.0]\n",
      "[973, ['Keyboard (musical)', 'Piano', 'Electric piano'], b'ENX0totqysA', 30.0, 40.0]\n",
      "[233, ['Music', 'Jazz'], b'2blZkl-4FAs', 30.0, 40.0]\n",
      "[834, ['Music', 'Soul music', 'Funk'], b'CGBWm0WAnZ4', 30.0, 40.0]\n",
      "[586, ['Music', 'Rhythm and blues'], b'8rCYRgePG-4', 30.0, 40.0]\n",
      "[595, ['Music', 'Reggae', 'Dubstep', 'Drum and bass'], b'8XBsesSEbbU', 60.0, 70.0]\n",
      "[501, ['Music', 'Disco'], b'7-mNJ4IUY5Q', 30.0, 40.0]\n"
     ]
    }
   ],
   "source": [
    "for index in nns_index:\n",
    "    sample = music_dataset[index]\n",
    "    music_labels = [music_dict[idx] for idx in sample['label']]\n",
    "    print([index, music_labels, sample['video_id'], sample['start_time'], sample['end_time']])"
   ]
  },
  {
   "cell_type": "code",
   "execution_count": null,
   "metadata": {},
   "outputs": [],
   "source": []
  }
 ],
 "metadata": {
  "kernelspec": {
   "display_name": "Python 3",
   "language": "python",
   "name": "python3"
  },
  "language_info": {
   "codemirror_mode": {
    "name": "ipython",
    "version": 3
   },
   "file_extension": ".py",
   "mimetype": "text/x-python",
   "name": "python",
   "nbconvert_exporter": "python",
   "pygments_lexer": "ipython3",
   "version": "3.7.5"
  }
 },
 "nbformat": 4,
 "nbformat_minor": 4
}
