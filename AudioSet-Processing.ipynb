{
 "cells": [
  {
   "cell_type": "markdown",
   "metadata": {},
   "source": [
    "**Objective** Read the AudioSet data and convert it to a usable JSON format file."
   ]
  },
  {
   "cell_type": "code",
   "execution_count": 1,
   "metadata": {},
   "outputs": [],
   "source": [
    "import warnings\n",
    "warnings.filterwarnings('ignore')\n",
    "\n",
    "import numpy as np\n",
    "import json\n",
    "import os\n",
    "import pandas as pd\n",
    "import tensorflow as tf"
   ]
  },
  {
   "cell_type": "code",
   "execution_count": 2,
   "metadata": {},
   "outputs": [
    {
     "data": {
      "text/plain": [
       "'features\\\\audioset_v1_embeddings\\\\eval\\\\-0.tfrecord'"
      ]
     },
     "execution_count": 2,
     "metadata": {},
     "output_type": "execute_result"
    }
   ],
   "source": [
    "directory = \"features\\\\audioset_v1_embeddings\\\\eval\"\n",
    "\n",
    "dataset = []\n",
    "for file_name in os.listdir(directory):\n",
    "    if file_name.endswith(\".tfrecord\"):\n",
    "        dataset.append(os.path.join(directory,file_name))\n",
    "        \n",
    "dataset[1]"
   ]
  },
  {
   "cell_type": "code",
   "execution_count": 3,
   "metadata": {},
   "outputs": [],
   "source": [
    "tf.compat.v1.enable_eager_execution()"
   ]
  },
  {
   "cell_type": "code",
   "execution_count": 8,
   "metadata": {},
   "outputs": [],
   "source": [
    "raw_dataset = tf.data.TFRecordDataset(dataset)"
   ]
  },
  {
   "cell_type": "code",
   "execution_count": 17,
   "metadata": {},
   "outputs": [],
   "source": [
    "# Collecting music classes\n",
    "class_labels = pd.read_csv('class_labels_indices.csv')\n",
    "labels = class_labels['display_name'].tolist()\n",
    "\n",
    "music_class = class_labels[class_labels['display_name'].str.contains('Music', case=False)]\n",
    "music_labels = music_class['ndex'].tolist()"
   ]
  },
  {
   "cell_type": "code",
   "execution_count": 44,
   "metadata": {},
   "outputs": [
    {
     "name": "stdout",
     "output_type": "stream",
     "text": [
      "Processing 100th file ...\n",
      "Processing 200th file ...\n",
      "Processing 300th file ...\n",
      "Processing 400th file ...\n",
      "Processing 500th file ...\n",
      "Processing 600th file ...\n",
      "Processing 700th file ...\n",
      "Processing 800th file ...\n",
      "Processing 900th file ...\n",
      "Processing 1000th file ...\n",
      "Processing 1100th file ...\n",
      "Processing 1200th file ...\n",
      "Processing 1300th file ...\n",
      "Processing 1400th file ...\n",
      "Processing 1500th file ...\n",
      "Processing 1600th file ...\n",
      "Processing 1700th file ...\n",
      "Processing 1800th file ...\n",
      "Processing 1900th file ...\n",
      "Processing 2000th file ...\n",
      "Processing 2100th file ...\n"
     ]
    }
   ],
   "source": [
    "audios = []\n",
    "counter = 0\n",
    "NUM_SECONDS = 10\n",
    "\n",
    "for raw_record in raw_dataset:\n",
    "    # Way to read TFRecord files\n",
    "    example = tf.train.SequenceExample()\n",
    "    example.ParseFromString(raw_record.numpy())\n",
    "    #print(example)\n",
    "    \n",
    "    \n",
    "    # Parse Audio Meta data\n",
    "    audio_labels = example.context.feature['labels'].int64_list.value\n",
    "    start_time = example.context.feature['start_time_seconds'].float_list.value\n",
    "    end_time = example.context.feature['end_time_seconds'].float_list.value\n",
    "    video_id = example.context.feature['video_id'].bytes_list.value\n",
    "    \n",
    "    if not (set(music_labels) & set(audio_labels)):\n",
    "        continue\n",
    "        \n",
    "    # Parse Audio Feature\n",
    "    feature_list = example.feature_lists.feature_list['audio_embedding'].feature\n",
    "    final_features = [list(feature.bytes_list.value[0]) for feature in feature_list]\n",
    "    audio_embedding = [item for sublist in final_features[:NUM_SECONDS] for item in sublist]\n",
    "    \n",
    "    if len(final_features) < NUM_SECONDS:\n",
    "        continue\n",
    "        \n",
    "    audio = {\n",
    "        'label': audio_labels,\n",
    "        'video_id': video_id[0],\n",
    "        'start_time': start_time[0],\n",
    "        'end_time': end_time[0],\n",
    "        'data': audio_embedding\n",
    "    }\n",
    "    \n",
    "    audios.append(audio)\n",
    "    counter += 1\n",
    "    if counter % 100 == 0:\n",
    "        print(f\"Processing {counter}th file ...\")"
   ]
  },
  {
   "cell_type": "code",
   "execution_count": 46,
   "metadata": {},
   "outputs": [],
   "source": [
    "with open('music_set.json', 'w') as file:\n",
    "    str_audio = repr(audios)\n",
    "    json.dump(str_audio, file)"
   ]
  },
  {
   "cell_type": "code",
   "execution_count": null,
   "metadata": {},
   "outputs": [],
   "source": []
  }
 ],
 "metadata": {
  "kernelspec": {
   "display_name": "Python 3",
   "language": "python",
   "name": "python3"
  },
  "language_info": {
   "codemirror_mode": {
    "name": "ipython",
    "version": 3
   },
   "file_extension": ".py",
   "mimetype": "text/x-python",
   "name": "python",
   "nbconvert_exporter": "python",
   "pygments_lexer": "ipython3",
   "version": "3.7.5"
  }
 },
 "nbformat": 4,
 "nbformat_minor": 4
}
